{
 "cells": [
  {
   "cell_type": "code",
   "execution_count": 11,
   "id": "2d42a570-a9f5-41e7-9f44-ccf5eae90e6e",
   "metadata": {},
   "outputs": [
    {
     "name": "stdin",
     "output_type": "stream",
     "text": [
      " 1\n"
     ]
    },
    {
     "name": "stdout",
     "output_type": "stream",
     "text": [
      "15\n"
     ]
    }
   ],
   "source": [
    "x = int(input())\n",
    "pay = 1000-x\n",
    "coins = [500,100,50,10,5,1]\n",
    "cnt = 0\n",
    "for coin in coins :\n",
    "    if pay // coin > 0 :\n",
    "        cnt += pay // coin\n",
    "        pay = pay - (coin* (pay // coin))\n",
    "        #pay %= coin\n",
    "print(cnt)"
   ]
  },
  {
   "cell_type": "code",
   "execution_count": null,
   "id": "6cd6f695-57e0-4c76-8fed-7dcd05dbcf2c",
   "metadata": {},
   "outputs": [],
   "source": [
    "x = int(input())\n",
    "pay = 1000-x\n",
    "coins = [500,100,50,10,5,1]\n",
    "def coin(i,coins,pay):\n",
    "    coin_cnt = pay // coins[i]\n",
    "    \n",
    "    return coin_cnt + coin(i+1,coins,pay%coins[i])\n",
    "print(coin(0,coins,pay))"
   ]
  },
  {
   "cell_type": "code",
   "execution_count": null,
   "id": "27535f19-d46f-4d29-9cf8-ff71fc1c9210",
   "metadata": {},
   "outputs": [],
   "source": []
  }
 ],
 "metadata": {
  "kernelspec": {
   "display_name": "Python 3",
   "language": "python",
   "name": "python3"
  },
  "language_info": {
   "codemirror_mode": {
    "name": "ipython",
    "version": 3
   },
   "file_extension": ".py",
   "mimetype": "text/x-python",
   "name": "python",
   "nbconvert_exporter": "python",
   "pygments_lexer": "ipython3",
   "version": "3.8.10"
  }
 },
 "nbformat": 4,
 "nbformat_minor": 5
}
