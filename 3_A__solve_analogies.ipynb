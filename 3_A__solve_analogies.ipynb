{
 "cells": [
  {
   "cell_type": "markdown",
   "metadata": {
    "id": "wzbsWQIoig6Z"
   },
   "source": [
    "# 3_A_solve_analogies\n",
    "- author: Eu-Bin KIM\n",
    "- 17th of August 2021\n",
    "\n",
    "## 목표\n",
    "1. 사전훈련된 Word2Vec 모델을 활용하여 비유문제를 푸는 함수, `solve_analogy()` 함수를 구현하는 것이 이번 숙제의 주된 목표입니다.\n",
    "2. 재밌는 비유를 찾아보세요! (e.g. `밤:낮::달:X`)\n",
    "3. 편향(bias) 문제에 대해서도 고민해볼 것입니다. (e.g. 사회에서 남자와 여자의 역할을 모델은 어떻게 판단할까?)\n"
   ]
  },
  {
   "cell_type": "code",
   "execution_count": 18,
   "metadata": {
    "colab": {
     "base_uri": "https://localhost:8080/"
    },
    "id": "rzu_Eq90qFCu",
    "outputId": "dc2f6de7-6d23-4e67-a81f-48c210c7112e"
   },
   "outputs": [
    {
     "name": "stdout",
     "output_type": "stream",
     "text": [
      "Requirement already satisfied: gensim in c:\\users\\jh\\anaconda3\\envs\\gj_ai\\lib\\site-packages (4.0.1)\n",
      "Requirement already satisfied: smart-open>=1.8.1 in c:\\users\\jh\\anaconda3\\envs\\gj_ai\\lib\\site-packages (from gensim) (5.2.0)\n",
      "Requirement already satisfied: numpy>=1.11.3 in c:\\users\\jh\\anaconda3\\envs\\gj_ai\\lib\\site-packages (from gensim) (1.20.2)\n",
      "Requirement already satisfied: scipy>=0.18.1 in c:\\users\\jh\\anaconda3\\envs\\gj_ai\\lib\\site-packages (from gensim) (1.6.2)\n",
      "Requirement already satisfied: Cython==0.29.21 in c:\\users\\jh\\anaconda3\\envs\\gj_ai\\lib\\site-packages (from gensim) (0.29.21)\n"
     ]
    }
   ],
   "source": [
    "# 이번에는 gensim 라이브러리를 사용해보겠습니다.\n",
    "# https://radimrehurek.com/gensim/auto_examples/index.html\n",
    "!pip3 install gensim  \n",
    "from typing import List, Tuple\n",
    "from gensim.models import KeyedVectors\n",
    "import gensim.downloader as api\n",
    "import numpy as np\n",
    "\n",
    "# 모델의 다운로드 현황을 확인하기 위해서 로깅 레벨을 수정합니다.\n",
    "from sys import stdout\n",
    "import logging\n",
    "logging.basicConfig(stream=stdout, level=logging.INFO)"
   ]
  },
  {
   "cell_type": "code",
   "execution_count": 19,
   "metadata": {
    "colab": {
     "base_uri": "https://localhost:8080/"
    },
    "id": "A6gc7U7Xp8rn",
    "outputId": "6301a9ee-5c57-46d2-e92d-dfe797a40120"
   },
   "outputs": [
    {
     "name": "stdout",
     "output_type": "stream",
     "text": [
      "INFO:gensim.models.keyedvectors:loading projection weights from C:\\Users\\JH/gensim-data\\glove-wiki-gigaword-200\\glove-wiki-gigaword-200.gz\n",
      "INFO:gensim.utils:KeyedVectors lifecycle event {'msg': 'loaded (400000, 200) matrix of type float32 from C:\\\\Users\\\\JH/gensim-data\\\\glove-wiki-gigaword-200\\\\glove-wiki-gigaword-200.gz', 'binary': False, 'encoding': 'utf8', 'datetime': '2021-08-18T21:21:23.487227', 'gensim': '4.0.1', 'python': '3.8.10 (default, May 19 2021, 13:12:57) [MSC v.1916 64 bit (AMD64)]', 'platform': 'Windows-10-10.0.19042-SP0', 'event': 'load_word2vec_format'}\n"
     ]
    }
   ],
   "source": [
    "# --- 전역 상수 및 변수 설정 --- #\n",
    "TOP_N = 20\n",
    "# 차원의 크기 = 200으로 설정하여 학습을 진행한 Word2Vec (정확히는 Glove라는 모델)를 로드해보려고 합니다.\n",
    "WORD2VEC_MODEL = \"glove-wiki-gigaword-200\"\n",
    "# 사전훈련된 모델을 다운로드 (252.MB) 정도되는 모델.\n",
    "# 모델의 가중치 (\"projection weights\")를 로드하는데 시간이 좀 걸릴 겁니다.\n",
    "# 다운로드 가능한 다른 모델 리스트는 https://github.com/RaRe-Technologies/gensim-data#available-data\n",
    "# 여기에서 확인해볼 수 있습니다.\n",
    "wv: KeyedVectors = api.load(WORD2VEC_MODEL)"
   ]
  },
  {
   "cell_type": "markdown",
   "metadata": {
    "id": "X-1aZgoWquXT"
   },
   "source": [
    "**Q: `KeyedVectors` 로는 무엇을 할 수 있나요?**\n",
    "> A: 어휘에 존재하는 단어의 임베딩 벡터를 불러올 수 있고 [(`wv.get_vector()`](https://radimrehurek.com/gensim/models/keyedvectors.html#gensim.models.keyedvectors.KeyedVectors.get_vector), 주어진 단어 혹은 단어 벡터와 유사한 단어를 확인할 수 있는 [(`wv.similar_by_word()`](https://radimrehurek.com/gensim/models/keyedvectors.html#gensim.models.keyedvectors.KeyedVectors.similar_by_word) , [`wv.similar_by_vector()`](https://radimrehurek.com/gensim/models/keyedvectors.html#gensim.models.keyedvectors.KeyedVectors.similar_by_vector) 멤버 함수를 지원하는 객체입니다.\n",
    "  \n"
   ]
  },
  {
   "cell_type": "code",
   "execution_count": 21,
   "metadata": {
    "colab": {
     "base_uri": "https://localhost:8080/"
    },
    "id": "dPvfGdfxtgCf",
    "outputId": "fdeabc8f-e40e-47f5-968a-1b5c1cb80e5c"
   },
   "outputs": [
    {
     "name": "stdout",
     "output_type": "stream",
     "text": [
      "[ 1.5682e-02  1.9355e-01 -5.5093e-01 -7.0453e-02 -6.5923e-01  2.5597e-01\n",
      " -3.4435e-01 -1.7964e-01  6.3907e-01 -4.1880e-01  3.1996e-01  3.3546e-01\n",
      "  2.1122e-01  4.1592e-01  2.8599e-01 -2.5777e-01 -1.3341e-01 -2.5731e-01\n",
      "  2.7712e-01 -3.2695e-01  1.1008e-01  2.7322e+00  4.6684e-01 -7.3542e-01\n",
      "  1.1934e-01 -6.0756e-01  1.8882e-01  1.6739e-01  7.1712e-02 -6.5601e-01\n",
      " -5.1485e-01  7.6970e-01 -1.6761e-02 -1.9893e-01  2.7478e-01  1.5767e-01\n",
      "  3.0154e-03 -3.5170e-01  1.3830e-01  6.0107e-01  1.9442e-01 -1.1802e-01\n",
      " -7.5983e-01  6.8567e-01  3.1139e-01  2.6280e-01  3.9558e-01 -6.9782e-01\n",
      " -2.1649e-01 -2.9196e-01  2.5405e-02  2.3887e-01  7.7817e-01 -4.7592e-02\n",
      " -2.3215e-01  6.1213e-02 -4.8265e-02 -2.0152e-01  3.2679e-01 -3.4759e-01\n",
      "  9.9897e-02 -5.1759e-01 -5.9987e-01  1.3594e-01  9.4825e-03 -9.0824e-01\n",
      " -1.3166e-01 -3.7136e-01 -9.6381e-02 -4.3759e-01 -1.5774e-01  3.3517e-01\n",
      "  1.3741e-01  8.2091e-02 -3.2295e-01  2.4789e-01 -7.3261e-03  2.5045e-03\n",
      " -1.0734e-01  3.8338e-01 -4.6347e-01 -1.7817e-01  2.8995e-01 -2.3342e-01\n",
      "  3.5332e-01 -5.4913e-01 -7.1703e-01 -4.9411e-01 -1.0706e-01 -8.6577e-01\n",
      "  9.7669e-02  8.9720e-01 -6.3157e-01  2.4803e-01 -1.3675e-01 -1.7690e-01\n",
      " -2.4218e-01 -6.2428e-01 -4.7577e-01 -1.4146e-01 -3.4351e-01  1.2621e-01\n",
      " -5.8372e-01  1.2055e-01 -4.1401e-02 -1.2253e-01  1.5960e-01  3.1284e-01\n",
      "  4.8291e-01  3.7330e-02  3.7515e-01 -3.2352e-01 -4.5301e-01  2.1923e-01\n",
      " -1.4680e-01 -5.7464e-01  4.2237e-01 -5.7580e-01  4.8010e-01 -4.9366e-01\n",
      "  8.3043e-01  1.0251e-01  1.4350e-01  4.4801e-01  4.2419e-01 -2.2976e-01\n",
      "  2.2213e-01 -2.8515e-01  4.3249e-01 -7.3253e-01 -1.4583e-01 -7.0181e-02\n",
      "  9.4005e-01 -1.2931e+00 -5.7515e-01  1.7507e-01 -8.7849e-02 -1.1623e-02\n",
      "  1.9701e-01 -5.8473e-02 -4.2427e-01 -1.2315e-01  1.3216e-01 -5.3331e-02\n",
      "  1.4086e+00  2.2520e-01  1.7757e-01 -3.5679e-01  6.7832e-01  5.4996e-01\n",
      "  5.4456e-01 -3.3238e-01 -3.5155e-01 -4.8678e-02 -3.5712e-02  6.9322e-01\n",
      "  3.1964e-01  1.6584e-01 -1.0904e+00 -8.1568e-01 -3.5108e-01 -2.5780e-01\n",
      "  3.0240e-02  4.4872e-01 -2.0936e-01 -2.7535e-01  7.0283e-02 -4.5958e-01\n",
      " -4.6557e-01 -1.3999e-01  3.1803e-01 -8.6461e-01  1.2341e-01  4.5735e-01\n",
      "  5.7170e-01 -2.2360e-03  3.4744e-01 -1.3559e-01 -2.0164e-01  3.0560e-01\n",
      "  1.3520e+00 -6.0270e-01  2.7976e-01 -4.1820e-01  7.6646e-01 -3.1769e-01\n",
      " -3.0510e-01  7.6640e-01  4.8001e-01  2.6505e-01 -6.1196e-01  7.2399e-01\n",
      " -5.3557e-01  2.3302e-01  5.5782e-01  1.9308e-01 -5.9356e-02 -4.2328e-02\n",
      " -1.1459e+00  5.1091e-01]\n",
      "(200,)\n"
     ]
    },
    {
     "ename": "TypeError",
     "evalue": "isinstance() arg 2 must be a type or tuple of types",
     "output_type": "error",
     "traceback": [
      "\u001b[1;31m---------------------------------------------------------------------------\u001b[0m",
      "\u001b[1;31mTypeError\u001b[0m                                 Traceback (most recent call last)",
      "\u001b[1;32m<ipython-input-21-bde04b871d45>\u001b[0m in \u001b[0;36m<module>\u001b[1;34m\u001b[0m\n\u001b[0;32m      7\u001b[0m \u001b[0mprint\u001b[0m\u001b[1;33m(\u001b[0m\u001b[0mcar_vec\u001b[0m\u001b[1;33m.\u001b[0m\u001b[0mshape\u001b[0m\u001b[1;33m)\u001b[0m\u001b[1;33m\u001b[0m\u001b[1;33m\u001b[0m\u001b[0m\n\u001b[0;32m      8\u001b[0m \u001b[1;31m# similar_by_word로 어휘에 존재하는 단어로 유사어를 구해볼 수 있습니다.\u001b[0m\u001b[1;33m\u001b[0m\u001b[1;33m\u001b[0m\u001b[1;33m\u001b[0m\u001b[0m\n\u001b[1;32m----> 9\u001b[1;33m \u001b[1;32mfor\u001b[0m \u001b[0mword\u001b[0m\u001b[1;33m,\u001b[0m \u001b[0mscore\u001b[0m \u001b[1;32min\u001b[0m \u001b[0mwv\u001b[0m\u001b[1;33m.\u001b[0m\u001b[0msimilar_by_word\u001b[0m\u001b[1;33m(\u001b[0m\u001b[1;34m\"car\"\u001b[0m\u001b[1;33m,\u001b[0m \u001b[0mtopn\u001b[0m\u001b[1;33m=\u001b[0m\u001b[0mTOP_N\u001b[0m\u001b[1;33m)\u001b[0m\u001b[1;33m:\u001b[0m\u001b[1;33m\u001b[0m\u001b[1;33m\u001b[0m\u001b[0m\n\u001b[0m\u001b[0;32m     10\u001b[0m   \u001b[0mprint\u001b[0m\u001b[1;33m(\u001b[0m\u001b[0mword\u001b[0m\u001b[1;33m,\u001b[0m \u001b[0mscore\u001b[0m\u001b[1;33m)\u001b[0m\u001b[1;33m\u001b[0m\u001b[1;33m\u001b[0m\u001b[0m\n\u001b[0;32m     11\u001b[0m \u001b[0mprint\u001b[0m\u001b[1;33m(\u001b[0m\u001b[1;34m\"-----\"\u001b[0m\u001b[1;33m)\u001b[0m\u001b[1;33m\u001b[0m\u001b[1;33m\u001b[0m\u001b[0m\n",
      "\u001b[1;32m~\\anaconda3\\envs\\GJ_AI\\lib\\site-packages\\gensim\\models\\keyedvectors.py\u001b[0m in \u001b[0;36msimilar_by_word\u001b[1;34m(self, word, topn, restrict_vocab)\u001b[0m\n\u001b[0;32m    783\u001b[0m     \u001b[1;32mdef\u001b[0m \u001b[0msimilar_by_word\u001b[0m\u001b[1;33m(\u001b[0m\u001b[0mself\u001b[0m\u001b[1;33m,\u001b[0m \u001b[0mword\u001b[0m\u001b[1;33m,\u001b[0m \u001b[0mtopn\u001b[0m\u001b[1;33m=\u001b[0m\u001b[1;36m10\u001b[0m\u001b[1;33m,\u001b[0m \u001b[0mrestrict_vocab\u001b[0m\u001b[1;33m=\u001b[0m\u001b[1;32mNone\u001b[0m\u001b[1;33m)\u001b[0m\u001b[1;33m:\u001b[0m\u001b[1;33m\u001b[0m\u001b[1;33m\u001b[0m\u001b[0m\n\u001b[0;32m    784\u001b[0m         \u001b[1;34m\"\"\"Compatibility alias for similar_by_key().\"\"\"\u001b[0m\u001b[1;33m\u001b[0m\u001b[1;33m\u001b[0m\u001b[0m\n\u001b[1;32m--> 785\u001b[1;33m         \u001b[1;32mreturn\u001b[0m \u001b[0mself\u001b[0m\u001b[1;33m.\u001b[0m\u001b[0msimilar_by_key\u001b[0m\u001b[1;33m(\u001b[0m\u001b[0mword\u001b[0m\u001b[1;33m,\u001b[0m \u001b[0mtopn\u001b[0m\u001b[1;33m,\u001b[0m \u001b[0mrestrict_vocab\u001b[0m\u001b[1;33m)\u001b[0m\u001b[1;33m\u001b[0m\u001b[1;33m\u001b[0m\u001b[0m\n\u001b[0m\u001b[0;32m    786\u001b[0m \u001b[1;33m\u001b[0m\u001b[0m\n\u001b[0;32m    787\u001b[0m     \u001b[1;32mdef\u001b[0m \u001b[0msimilar_by_key\u001b[0m\u001b[1;33m(\u001b[0m\u001b[0mself\u001b[0m\u001b[1;33m,\u001b[0m \u001b[0mkey\u001b[0m\u001b[1;33m,\u001b[0m \u001b[0mtopn\u001b[0m\u001b[1;33m=\u001b[0m\u001b[1;36m10\u001b[0m\u001b[1;33m,\u001b[0m \u001b[0mrestrict_vocab\u001b[0m\u001b[1;33m=\u001b[0m\u001b[1;32mNone\u001b[0m\u001b[1;33m)\u001b[0m\u001b[1;33m:\u001b[0m\u001b[1;33m\u001b[0m\u001b[1;33m\u001b[0m\u001b[0m\n",
      "\u001b[1;32m~\\anaconda3\\envs\\GJ_AI\\lib\\site-packages\\gensim\\models\\keyedvectors.py\u001b[0m in \u001b[0;36msimilar_by_key\u001b[1;34m(self, key, topn, restrict_vocab)\u001b[0m\n\u001b[0;32m    809\u001b[0m \u001b[1;33m\u001b[0m\u001b[0m\n\u001b[0;32m    810\u001b[0m         \"\"\"\n\u001b[1;32m--> 811\u001b[1;33m         \u001b[1;32mreturn\u001b[0m \u001b[0mself\u001b[0m\u001b[1;33m.\u001b[0m\u001b[0mmost_similar\u001b[0m\u001b[1;33m(\u001b[0m\u001b[0mpositive\u001b[0m\u001b[1;33m=\u001b[0m\u001b[1;33m[\u001b[0m\u001b[0mkey\u001b[0m\u001b[1;33m]\u001b[0m\u001b[1;33m,\u001b[0m \u001b[0mtopn\u001b[0m\u001b[1;33m=\u001b[0m\u001b[0mtopn\u001b[0m\u001b[1;33m,\u001b[0m \u001b[0mrestrict_vocab\u001b[0m\u001b[1;33m=\u001b[0m\u001b[0mrestrict_vocab\u001b[0m\u001b[1;33m)\u001b[0m\u001b[1;33m\u001b[0m\u001b[1;33m\u001b[0m\u001b[0m\n\u001b[0m\u001b[0;32m    812\u001b[0m \u001b[1;33m\u001b[0m\u001b[0m\n\u001b[0;32m    813\u001b[0m     \u001b[1;32mdef\u001b[0m \u001b[0msimilar_by_vector\u001b[0m\u001b[1;33m(\u001b[0m\u001b[0mself\u001b[0m\u001b[1;33m,\u001b[0m \u001b[0mvector\u001b[0m\u001b[1;33m,\u001b[0m \u001b[0mtopn\u001b[0m\u001b[1;33m=\u001b[0m\u001b[1;36m10\u001b[0m\u001b[1;33m,\u001b[0m \u001b[0mrestrict_vocab\u001b[0m\u001b[1;33m=\u001b[0m\u001b[1;32mNone\u001b[0m\u001b[1;33m)\u001b[0m\u001b[1;33m:\u001b[0m\u001b[1;33m\u001b[0m\u001b[1;33m\u001b[0m\u001b[0m\n",
      "\u001b[1;32m~\\anaconda3\\envs\\GJ_AI\\lib\\site-packages\\gensim\\models\\keyedvectors.py\u001b[0m in \u001b[0;36mmost_similar\u001b[1;34m(self, positive, negative, topn, clip_start, clip_end, restrict_vocab, indexer)\u001b[0m\n\u001b[0;32m    765\u001b[0m         \u001b[1;32mif\u001b[0m \u001b[1;32mnot\u001b[0m \u001b[0mmean\u001b[0m\u001b[1;33m:\u001b[0m\u001b[1;33m\u001b[0m\u001b[1;33m\u001b[0m\u001b[0m\n\u001b[0;32m    766\u001b[0m             \u001b[1;32mraise\u001b[0m \u001b[0mValueError\u001b[0m\u001b[1;33m(\u001b[0m\u001b[1;34m\"cannot compute similarity with no input\"\u001b[0m\u001b[1;33m)\u001b[0m\u001b[1;33m\u001b[0m\u001b[1;33m\u001b[0m\u001b[0m\n\u001b[1;32m--> 767\u001b[1;33m         \u001b[0mmean\u001b[0m \u001b[1;33m=\u001b[0m \u001b[0mmatutils\u001b[0m\u001b[1;33m.\u001b[0m\u001b[0munitvec\u001b[0m\u001b[1;33m(\u001b[0m\u001b[0marray\u001b[0m\u001b[1;33m(\u001b[0m\u001b[0mmean\u001b[0m\u001b[1;33m)\u001b[0m\u001b[1;33m.\u001b[0m\u001b[0mmean\u001b[0m\u001b[1;33m(\u001b[0m\u001b[0maxis\u001b[0m\u001b[1;33m=\u001b[0m\u001b[1;36m0\u001b[0m\u001b[1;33m)\u001b[0m\u001b[1;33m)\u001b[0m\u001b[1;33m.\u001b[0m\u001b[0mastype\u001b[0m\u001b[1;33m(\u001b[0m\u001b[0mREAL\u001b[0m\u001b[1;33m)\u001b[0m\u001b[1;33m\u001b[0m\u001b[1;33m\u001b[0m\u001b[0m\n\u001b[0m\u001b[0;32m    768\u001b[0m \u001b[1;33m\u001b[0m\u001b[0m\n\u001b[0;32m    769\u001b[0m         \u001b[1;32mif\u001b[0m \u001b[0mindexer\u001b[0m \u001b[1;32mis\u001b[0m \u001b[1;32mnot\u001b[0m \u001b[1;32mNone\u001b[0m \u001b[1;32mand\u001b[0m \u001b[0misinstance\u001b[0m\u001b[1;33m(\u001b[0m\u001b[0mtopn\u001b[0m\u001b[1;33m,\u001b[0m \u001b[0mint\u001b[0m\u001b[1;33m)\u001b[0m\u001b[1;33m:\u001b[0m\u001b[1;33m\u001b[0m\u001b[1;33m\u001b[0m\u001b[0m\n",
      "\u001b[1;32m~\\anaconda3\\envs\\GJ_AI\\lib\\site-packages\\gensim\\matutils.py\u001b[0m in \u001b[0;36munitvec\u001b[1;34m(vec, norm, return_norm)\u001b[0m\n\u001b[0;32m    737\u001b[0m                 \u001b[1;32mreturn\u001b[0m \u001b[0mvec\u001b[0m\u001b[1;33m\u001b[0m\u001b[1;33m\u001b[0m\u001b[0m\n\u001b[0;32m    738\u001b[0m \u001b[1;33m\u001b[0m\u001b[0m\n\u001b[1;32m--> 739\u001b[1;33m     \u001b[1;32mif\u001b[0m \u001b[0misinstance\u001b[0m\u001b[1;33m(\u001b[0m\u001b[0mvec\u001b[0m\u001b[1;33m,\u001b[0m \u001b[0mnp\u001b[0m\u001b[1;33m.\u001b[0m\u001b[0mndarray\u001b[0m\u001b[1;33m)\u001b[0m\u001b[1;33m:\u001b[0m\u001b[1;33m\u001b[0m\u001b[1;33m\u001b[0m\u001b[0m\n\u001b[0m\u001b[0;32m    740\u001b[0m         \u001b[1;32mif\u001b[0m \u001b[0mnorm\u001b[0m \u001b[1;33m==\u001b[0m \u001b[1;34m'l1'\u001b[0m\u001b[1;33m:\u001b[0m\u001b[1;33m\u001b[0m\u001b[1;33m\u001b[0m\u001b[0m\n\u001b[0;32m    741\u001b[0m             \u001b[0mveclen\u001b[0m \u001b[1;33m=\u001b[0m \u001b[0mnp\u001b[0m\u001b[1;33m.\u001b[0m\u001b[0msum\u001b[0m\u001b[1;33m(\u001b[0m\u001b[0mnp\u001b[0m\u001b[1;33m.\u001b[0m\u001b[0mabs\u001b[0m\u001b[1;33m(\u001b[0m\u001b[0mvec\u001b[0m\u001b[1;33m)\u001b[0m\u001b[1;33m)\u001b[0m\u001b[1;33m\u001b[0m\u001b[1;33m\u001b[0m\u001b[0m\n",
      "\u001b[1;31mTypeError\u001b[0m: isinstance() arg 2 must be a type or tuple of types"
     ]
    }
   ],
   "source": [
    "# --- wv 사용예시 --- # \n",
    "# wv.get_vector(단어)를 사용하여, 어휘에 존재하는 특정 단어의 임베딩 벡터를 넘파이 배열로 불러올 수 있습니다.\n",
    "car_vec: np.ndarray = wv.get_vector(\"car\")\n",
    "# Word2Vec 모델은 예측 기반 모델이므로, 벡터가 희소하지 않으며 밀도가 높습니다. \n",
    "print(car_vec)\n",
    "# 벡터의 크기를 200으로 설정한 후 학습한 모델이니, 당연히 벡터의 차원은 200일 것입니다.\n",
    "print(car_vec.shape)\n",
    "# similar_by_word로 어휘에 존재하는 단어로 유사어를 구해볼 수 있습니다.\n",
    "for word, score in wv.similar_by_word(\"car\", topn=TOP_N):\n",
    "  print(word, score)\n",
    "print(\"-----\")\n",
    "# similar_by_vector로는 임베딩 벡터로 유사어를 구해볼 수 있습니다.\n",
    "for word, score in wv.similar_by_vector(car_vec, topn=TOP_N):\n",
    "  print(word, score)\n",
    "\n",
    "# ----------------- #"
   ]
  },
  {
   "cell_type": "markdown",
   "metadata": {
    "id": "PJzys9WXAWGP"
   },
   "source": [
    "**Q: 벡터의 연산으로 `A:B::C:X`를 만족하는 가장 적절한 X를 어떻게 구할 수 있을까요?**\n",
    "\n",
    "`A:B::C:X` 를 풀어서 생각을 해보면,\n",
    "\n",
    "`관계(A,B)` ~= `관계(C, X)`를 만족하는 가장 적절한 `X`를 찾는 과정이라고 생각해볼 수 있습니다.\n",
    "\n",
    "그럼 두 `관계`가 동일하다는 것은 어떻게 수학적으로 정의할 수 있을까요? \n",
    "\n",
    "만약 두 벡터 사이의 차(Difference)가 유사하다면, 같은 `관계`에 있다고 볼 수 있을 것입니다, 즉 위 식을 `A - B = C - X`로 나타낼 수 있습니다.\n",
    "\n",
    "예를 들어,\n",
    "- `king:man::queen:x`\n",
    "-  = `관계(king,man) ~= 관계(queen,X)`\n",
    "-  = `king - man ~= queen - x`\n",
    "-  =  `x ~= queen - king + man`\n",
    "-  =  `x` ~= woman, girl, etc\n",
    "\n",
    "\n",
    "\n"
   ]
  },
  {
   "cell_type": "code",
   "execution_count": null,
   "metadata": {
    "id": "N0haiN4KjbF2"
   },
   "outputs": [],
   "source": [
    "def solve_analogy(a: str, b: str, c: str):\n",
    "    \"\"\"\n",
    "    :param wv: a pre-trained word2vec model\n",
    "    :param a: word a\n",
    "    :param b: word b\n",
    "    :param c: word c\n",
    "    \"\"\"\n",
    "    global TOP_N, RESTRICT_VOCAB, wv\n",
    "    # ---- TODO 1 -------\n",
    "    # Write your implementation here.\n",
    "    # get a continuous & distributed vector representation of a, b and c, using wv.\n",
    "    # use vector arithmetics to get a vector representation of x, such that a is to b as in c is to x.\n",
    "    sims: List[Tuple[str, float]] = ...  \n",
    "    # ------------------\n",
    "    print(\"### {} : {} = {} : X ###\".format(a, b, c))\n",
    "    for word, score in sims:\n",
    "        print(word, score)"
   ]
  },
  {
   "cell_type": "code",
   "execution_count": null,
   "metadata": {
    "id": "Ho6iiOCpp3rs"
   },
   "outputs": [],
   "source": [
    "# 한번 비유문제를 풀어봅시다!\n",
    "solve_analogy(\"king\", \"man\", \"queen\")  # 왕:남자::여왕:X\n",
    "solve_analogy(\"have\", \"had\", \"get\")  # have:had::get:X\n",
    "solve_analogy(\"korea\", \"seoul\", \"england\")  # 한국:서울::영국:X\n",
    "solve_analogy(\"night\", \"noon\", \"moon\")  # 밤:낮::달:X\n",
    "solve_analogy(\"korea\", \"kimchi\", \"england\")  # 한국:김치::영국:X?\n",
    "solve_analogy(\"us\", \"trump\", \"korea\")  # 미국:트럼프::한국:X?"
   ]
  },
  {
   "cell_type": "markdown",
   "metadata": {
    "id": "EDsdKrdHw5Ox"
   },
   "source": [
    "다음과 같은 결과가 나와야 합니다:\n",
    "```\n",
    "### king : man = queen : X ###\n",
    "woman 0.7018729448318481\n",
    "man 0.6981476545333862\n",
    "girl 0.5718171000480652\n",
    "she 0.5551059246063232\n",
    "her 0.546249508857727\n",
    "mother 0.5334489345550537\n",
    "queen 0.5116901397705078\n",
    "beautiful 0.509249210357666\n",
    "teenager 0.5078386664390564\n",
    "person 0.5015807151794434\n",
    "### have : had = get : X ###\n",
    "got 0.8583781123161316\n",
    "get 0.8212234973907471\n",
    "getting 0.7435371279716492\n",
    "had 0.7194944024085999\n",
    "him 0.713526725769043\n",
    "'d 0.7016146183013916\n",
    "when 0.7001579999923706\n",
    "just 0.6940717101097107\n",
    "out 0.6917241811752319\n",
    "then 0.6907411813735962\n",
    "### korea : seoul = england : X ###\n",
    "england 0.7255815267562866\n",
    "london 0.6356680989265442\n",
    "birmingham 0.589836835861206\n",
    "surrey 0.5772858262062073\n",
    "manchester 0.5481588840484619\n",
    "oxford 0.529553234577179\n",
    "melbourne 0.5265653133392334\n",
    "liverpool 0.5259275436401367\n",
    "nottingham 0.5229343175888062\n",
    "perth 0.5212391018867493\n",
    "### night : noon = moon : X ###\n",
    "moon 0.7155050039291382\n",
    "noon 0.539372444152832\n",
    "lunar 0.4896060824394226\n",
    "enceladus 0.46816378831863403\n",
    "ki 0.45321711897850037\n",
    "mullican 0.4399142861366272\n",
    "gibbous 0.4230325222015381\n",
    "mid-autumn 0.4199249744415283\n",
    "earth 0.41744324564933777\n",
    "sun 0.41505134105682373\n",
    "### korea : kimchi = england : X ###\n",
    "surrey 0.4262450635433197\n",
    "warwickshire 0.42526546120643616\n",
    "sussex 0.4186975955963135\n",
    "england 0.41754770278930664\n",
    "lancashire 0.4137398898601532\n",
    "alastair 0.41208115220069885\n",
    "atherton 0.4097963273525238\n",
    "worcestershire 0.4054810702800751\n",
    "chowder 0.3995121419429779\n",
    "botham 0.3986336588859558\n",
    "### us : trump = korea : X ###\n",
    "trump 0.5992231369018555\n",
    "korea 0.5070021152496338\n",
    "pyongyang 0.41019734740257263\n",
    "incheon 0.3933596611022949\n",
    "kathie 0.3807404041290283\n",
    "knauss 0.3795280456542969\n",
    "kang 0.36351221799850464\n",
    "ivanka 0.361664354801178\n",
    "koreas 0.36132609844207764\n",
    "dprk 0.3603391647338867\n",
    "```"
   ]
  },
  {
   "cell_type": "code",
   "execution_count": null,
   "metadata": {
    "id": "hI4_ncNMIN82"
   },
   "outputs": [],
   "source": [
    "# --- TODO 2 --- # \n",
    "# 더 재밌는 비유의 예시를 찾아보세요!\n",
    "\n",
    "\n",
    "# -------------- #\n"
   ]
  },
  {
   "cell_type": "markdown",
   "metadata": {
    "id": "-1DfFFYrJDBe"
   },
   "source": [
    "앞선 수업에서, Distributional Semantics 가정을 기반으로 데이터로부터 임베딩 벡터를 얻는 방법은, 편향(bias)을 고려하지 않는 실수를 범하기 쉽다고 했었습니다. 편향관리를 실패한 대표적인 예시로 [이루다 서비스](https://media.scatterlab.co.kr/1-11-media)를 예시로 들기도 했었구요. \n",
    "\n",
    "비단 우리가 지금 사용하고 있는 Word2Vec 모델도 편향된 부분이 있을 것입니다. 우리가 구현한 `solve_analogy()` 함수를 활용해 학습한 편향을 찾아보도록 하겠습니다. \n",
    "\n",
    "## TODO 3\n",
    "> 밑의 코드를 실행하고, 결과를 비교해보세요. 어떤 문제를 발견할 수 있나요?\n"
   ]
  },
  {
   "cell_type": "code",
   "execution_count": null,
   "metadata": {
    "id": "noBPgc2iJY5V"
   },
   "outputs": [],
   "source": [
    "# 남자의 역할이 노동자라면, 여자의 역할은 무엇인가?\n",
    "solve_analogy(\"man\", \"worker\", \"woman\")  \n",
    "# 여자의 역할이 노동자라면, 남자의 역할은 무엇인가?\n",
    "solve_analogy(\"woman\", \"worker\", \"man\") "
   ]
  }
 ],
 "metadata": {
  "colab": {
   "collapsed_sections": [],
   "name": "3_A_ solve_analogies.ipynb",
   "provenance": []
  },
  "kernelspec": {
   "display_name": "Python 3",
   "language": "python",
   "name": "python3"
  },
  "language_info": {
   "codemirror_mode": {
    "name": "ipython",
    "version": 3
   },
   "file_extension": ".py",
   "mimetype": "text/x-python",
   "name": "python",
   "nbconvert_exporter": "python",
   "pygments_lexer": "ipython3",
   "version": "3.8.10"
  }
 },
 "nbformat": 4,
 "nbformat_minor": 4
}
