{
 "cells": [
  {
   "cell_type": "markdown",
   "metadata": {
    "id": "tFBqY9rKMbM0"
   },
   "source": [
    "## 8/20 세번째 시험 - 서술형"
   ]
  },
  {
   "cell_type": "markdown",
   "metadata": {
    "id": "O8CvYZHtyC2J"
   },
   "source": [
    "# 주의 사항 (꼭 확인해주세요!)\n",
    "\n",
    "1. **colab 파일 제목을 \"이름_@반_세번째시험\"으로 변경 후 각 반 보조강사/모니터링 매니저에게 Slack DM으로 제출해 주세요.**\n",
    "\n",
    "2. 시험 시간은 11:00 ~ 12:50(1시간 50분)까지 이며, 시험 시간 종료 후 제출은 절대 불가능합니다.\n",
    "\n",
    "3. 코드 작성하는 부분 이외에 문제나 지문을 수정하지 마세요.\n",
    "\n",
    "4. 각 문제에 제시된 변수 및 Parameter 이름은 변경하지 마세요.\n",
    "\n",
    "5. 제출 시, 최종 코드는 문제 별로 한 블럭에서 실행되도록 작성하여 제출해주세요."
   ]
  },
  {
   "cell_type": "markdown",
   "metadata": {
    "id": "1-OpV9uretl4"
   },
   "source": [
    "### 문제1. 다음 코드의 실행 결과가 아래와 같이 나오도록 코드를 완성해 보세요.\n",
    "\n",
    "![스크린샷 2021-08-19 오후 6 20 21](https://user-images.githubusercontent.com/68001045/130044170-aa74e725-dab4-46df-82b8-f5c8e6eab344.png)\n",
    "\n",
    "\n",
    "![스크린샷 2021-08-19 오후 6 23 38](https://user-images.githubusercontent.com/68001045/130044185-c30623d8-c022-4758-a27e-19cef29910d1.png)"
   ]
  },
  {
   "cell_type": "code",
   "execution_count": 1,
   "metadata": {
    "colab": {
     "base_uri": "https://localhost:8080/"
    },
    "id": "MNmXm-xzd8ow",
    "outputId": "5bece3dc-0879-4e17-c1fa-5e5c5b46d1b5"
   },
   "outputs": [
    {
     "name": "stdout",
     "output_type": "stream",
     "text": [
      "보팅 분류기의 학습 및 평가\n",
      "훈련 점수: 0.9494505494505494\n",
      "테스트 점수: 0.956140350877193\n",
      "\n",
      "개별 모델의 학습 및 평가\n",
      "LogisticRegression 0.9516483516483516 0.9473684210526315\n",
      "KNeighborsClassifier 0.9384615384615385 0.9473684210526315\n",
      "SVC 0.9098901098901099 0.9298245614035088\n"
     ]
    }
   ],
   "source": [
    "from sklearn.ensemble import VotingClassifier\n",
    "from sklearn.linear_model import LogisticRegression\n",
    "from sklearn.neighbors import KNeighborsClassifier\n",
    "from sklearn.svm import SVC\n",
    "from sklearn.datasets import load_breast_cancer\n",
    "from sklearn.model_selection import train_test_split\n",
    "\n",
    "# 경고메시지 무시\n",
    "import warnings\n",
    "warnings.filterwarnings(\"ignore\")\n",
    "\n",
    "# 데이터 준비\n",
    "cancer = load_breast_cancer()\n",
    "\n",
    "# 데이터를 훈련셋과 테스트셋으로 나누기\n",
    "X = cancer.data\n",
    "y = cancer.target\n",
    "X_train, X_test, y_train, y_test = train_test_split(X, y, \n",
    "                                                    random_state=0,\n",
    "                                                    test_size=0.2)\n",
    "\n",
    "\n",
    "# 보팅 적용을 위한 개별 모델\n",
    "model_lr = LogisticRegression()\n",
    "model_knn = KNeighborsClassifier(n_neighbors=8)\n",
    "model_svc = SVC(probability=True)\n",
    "# 개별모델을 앙상블 모델로 구현한 분류기\n",
    "model_voting = VotingClassifier(estimators=[('LogisticRegression', model_lr),\n",
    "                                            ('KNN', model_knn),\n",
    "                                            ('SVC', model_svc)],\n",
    "                                voting='soft')\n",
    "\n",
    "\n",
    "print('보팅 분류기의 학습 및 평가')\n",
    "model_voting.fit(X_train, y_train)\n",
    "print('훈련 점수:', model_voting.score(X_train, y_train) )\n",
    "print('테스트 점수:', model_voting.score(X_test, y_test) )\n",
    "\n",
    "print()\n",
    "print('개별 모델의 학습 및 평가')\n",
    "for m in [model_lr, model_knn, model_svc]:\n",
    "  m.fit(X_train, y_train)\n",
    "  print(m.__class__.__name__, m.score(X_train, y_train), m.score(X_test, y_test) )"
   ]
  },
  {
   "cell_type": "markdown",
   "metadata": {
    "id": "ithOgUITgznb"
   },
   "source": [
    "### 문제 2번, 3번, 4번은 아래의 [보기]를 참고하여 문제를 풀어주셔야 합니다.\n",
    "\n",
    "![스크린샷 2021-08-19 오후 6 24 45](https://user-images.githubusercontent.com/68001045/130044322-871c69e6-2463-48e7-b5ea-7eea315cccb1.png)\n"
   ]
  },
  {
   "cell_type": "markdown",
   "metadata": {
    "id": "qdYV7WIkfAP-"
   },
   "source": [
    "### 문제 2. 위의 [보기]의 상황에서 Infomation Entropy를 구하여라.\n",
    "\n",
    "- 조건 1. 사용할 수 있는 라이브러리는 Numpy. \n",
    "- 조건 2. Infomation Entropy를 구하는 함수를 구축하여 주세요.(클래스 사용 가능)\n",
    "- 조건 3. [보기]에서 제시된 확률분포를 사용하세요.\n",
    "- 조건 4. 결과는 소수점 세 자리까지만 출력하세요."
   ]
  },
  {
   "cell_type": "code",
   "execution_count": 2,
   "metadata": {
    "colab": {
     "base_uri": "https://localhost:8080/"
    },
    "id": "qwjedO52f5Qn",
    "outputId": "41fa8758-fee5-477c-affc-eadad28536a5"
   },
   "outputs": [
    {
     "name": "stdout",
     "output_type": "stream",
     "text": [
      "---infomation entropy---\n",
      "1.006\n"
     ]
    }
   ],
   "source": [
    "import numpy as np\n",
    "\n",
    "Real_Prob = np.array([0.526, 0.295, 0.179])\n",
    "AIRIM_Q   = np.array([0.800, 0.200, 0.000])\n",
    "\n",
    "class Entropy():\n",
    "    def __init__(self, Prob, Q):\n",
    "        self.Prob = Prob\n",
    "        self.Q    = Q\n",
    "\n",
    "def out_entropy(self, H_Q = False):\n",
    "    global info_entropy\n",
    "    amount_of_info_row = []\n",
    "\n",
    "    for p in self.Prob:\n",
    "        amount_of_info = - p * np.log(p)\n",
    "        amount_of_info_row.append(amount_of_info)\n",
    "        \n",
    "    info_entropy = np.sum(amount_of_info_row)\n",
    "    print(\"---infomation entropy---\")\n",
    "\n",
    "    return np.round(info_entropy, 3)\n",
    "\n",
    "Entropy.entropy = out_entropy\n",
    "\n",
    "\n",
    "class_entropy = Entropy(Real_Prob, AIRIM_Q)\n",
    "AIRIM_info_entropy = class_entropy.entropy()\n",
    "print(AIRIM_info_entropy)"
   ]
  },
  {
   "cell_type": "markdown",
   "metadata": {
    "id": "w5FfnrF7gtHX"
   },
   "source": [
    "### 문제 3. 위의 [보기]의 상황에서 Cross Entropy를 구하여라.\n",
    "\n",
    "- 조건 1. 사용할 수 있는 라이브러리는 Numpy.\n",
    "- 조건 2. Cross Entropy를 구하는 함수를 구축하여 주세요.(클래스 사용가능)\n",
    "- 조건 3. Cross Entropy를 구하기 위해 필요한 확률분포는 문제 2과 같습니다.\n",
    "- 조건 4. 출력된 결과를 그대로 제출하세요."
   ]
  },
  {
   "cell_type": "code",
   "execution_count": 3,
   "metadata": {
    "colab": {
     "base_uri": "https://localhost:8080/"
    },
    "id": "0SCAuYHvgv0I",
    "outputId": "c62f365f-aac6-4e86-82b4-dd6976540cbc"
   },
   "outputs": [
    {
     "name": "stdout",
     "output_type": "stream",
     "text": [
      "--- cross entropy ---\n",
      "inf\n"
     ]
    }
   ],
   "source": [
    "import numpy as np\n",
    "\n",
    "Real_Prob = np.array([0.526, 0.295, 0.179])\n",
    "AIRIM_Q   = np.array([0.800, 0.200, 0.000])\n",
    "\n",
    "class Entropy():\n",
    "    def __init__(self, Prob, Q):\n",
    "        self.Prob = Prob\n",
    "        self.Q    = Q\n",
    "\n",
    "def out_entropy(self, H_Q = True):\n",
    "    global cross_entropy\n",
    "    amount_of_info_row = []\n",
    "\n",
    "    for i in range(len(self.Q)):\n",
    "        amount_of_info = -self.Prob[i] * np.log(self.Q[i])\n",
    "        amount_of_info_row.append(amount_of_info)\n",
    "    \n",
    "    cross_entropy = np.sum(amount_of_info_row)\n",
    "    print(\"--- cross entropy ---\")\n",
    "    \n",
    "    return np.round(cross_entropy, 3)\n",
    "\n",
    "\n",
    "Entropy.entropy = out_entropy\n",
    "\n",
    "\n",
    "class_entropy = Entropy(Real_Prob, AIRIM_Q)\n",
    "AIRIM_cross_entropy = class_entropy.entropy()\n",
    "print(AIRIM_cross_entropy)"
   ]
  },
  {
   "cell_type": "markdown",
   "metadata": {
    "id": "O4UFdaG4hLhO"
   },
   "source": [
    "### 문제 4. 위의 문제 3의 상황에서 다시한번 Cross Entropy를 구하여라.\n",
    "\n",
    "- 조건 1. 사용할 수 있는 라이브러리는 Numpy.\n",
    "- 조건 2. Cross Entropy를 구하는 함수를 구축하여 주세요.(클래스 사용가능)\n",
    "- 조건 3. 문제에서 확률분포는 문제 2과 같습니다.\n",
    "- 조건 4. 결과는 소수점 세 자리까지만 출력하세요.\n",
    "- 조건 5. 출력된 결과를 그대로 제출하세요."
   ]
  },
  {
   "cell_type": "code",
   "execution_count": 4,
   "metadata": {
    "colab": {
     "base_uri": "https://localhost:8080/"
    },
    "id": "Qv5H8a9khVkP",
    "outputId": "63494706-8900-4479-ea0f-2637649ee893"
   },
   "outputs": [
    {
     "name": "stdout",
     "output_type": "stream",
     "text": [
      "--- cross entropy ---\n",
      "4.714\n"
     ]
    }
   ],
   "source": [
    "epsilon = 1.0e-10\n",
    "import numpy as np\n",
    "\n",
    "Real_Prob = np.array([0.526, 0.295, 0.179])\n",
    "AIRIM_Q   = np.array([0.800, 0.200, 0.000])\n",
    "\n",
    "class Entropy():\n",
    "    def __init__(self, Prob, Q):\n",
    "        self.Prob = Prob\n",
    "        self.Q    = Q\n",
    "\n",
    "def out_entropy(self, H_Q = True):\n",
    "    global cross_entropy\n",
    "    amount_of_info_row = []\n",
    "\n",
    "    for i in range(len(self.Q)):\n",
    "        if self.Q[i] == 0 :\n",
    "          self.Q[i] += epsilon\n",
    "        amount_of_info = -self.Prob[i] * np.log(self.Q[i])\n",
    "        amount_of_info_row.append(amount_of_info)\n",
    "    \n",
    "    cross_entropy = np.sum(amount_of_info_row)\n",
    "    print(\"--- cross entropy ---\")\n",
    "    \n",
    "    return np.round(cross_entropy, 3)\n",
    "\n",
    "\n",
    "Entropy.entropy = out_entropy\n",
    "\n",
    "\n",
    "class_entropy = Entropy(Real_Prob, AIRIM_Q)\n",
    "AIRIM_info_entropy = class_entropy.entropy()\n",
    "print(AIRIM_info_entropy)"
   ]
  },
  {
   "cell_type": "markdown",
   "metadata": {
    "id": "8QuzdYdih_FD"
   },
   "source": [
    "### 문제 5. 다음은 피보나치 수열의 n항을 구하는 재귀로 작성한 코드의 일부이다. 피보나치 수열은 첫째 및 둘째 항이 1이며 그 뒤의 모든 항은 바로 앞 두 항의 합인 수열을 말한다. n은 1이상의 100이하의 입력이 들어온다. 해당 재귀 함수의 빈 공간 (return문)을 올바르게 채워넣으시오.\n",
    "\n",
    "\n",
    "\n",
    "![5](https://user-images.githubusercontent.com/66001252/130149373-981dfe18-a4d5-4423-9540-6579834789f5.png)\n"
   ]
  },
  {
   "cell_type": "code",
   "execution_count": 5,
   "metadata": {
    "colab": {
     "base_uri": "https://localhost:8080/"
    },
    "id": "I31U-oktiAJB",
    "outputId": "8d4e87f1-056a-4f39-f293-88a28f759d57"
   },
   "outputs": [
    {
     "name": "stdout",
     "output_type": "stream",
     "text": [
      "5\n",
      "144\n"
     ]
    }
   ],
   "source": [
    "def fibonacci(n):\n",
    "  if n <= 1:\n",
    "    return n\n",
    "  return fibonacci(n-1)+fibonacci(n-2)\n",
    "  \n",
    "print(fibonacci(5)) # 예상 출력 : 5\n",
    "print(fibonacci(12)) # 예상 출력 : 144"
   ]
  },
  {
   "cell_type": "code",
   "execution_count": null,
   "metadata": {},
   "outputs": [],
   "source": []
  }
 ],
 "metadata": {
  "colab": {
   "collapsed_sections": [],
   "name": "김준형_3반_세번째시험.ipynb",
   "provenance": []
  },
  "kernelspec": {
   "display_name": "Python 3",
   "language": "python",
   "name": "python3"
  },
  "language_info": {
   "codemirror_mode": {
    "name": "ipython",
    "version": 3
   },
   "file_extension": ".py",
   "mimetype": "text/x-python",
   "name": "python",
   "nbconvert_exporter": "python",
   "pygments_lexer": "ipython3",
   "version": "3.8.10"
  }
 },
 "nbformat": 4,
 "nbformat_minor": 4
}
